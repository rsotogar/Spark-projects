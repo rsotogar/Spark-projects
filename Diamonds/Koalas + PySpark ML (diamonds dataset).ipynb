{
 "cells": [
  {
   "cell_type": "markdown",
   "metadata": {},
   "source": [
    "#### Libraries"
   ]
  },
  {
   "cell_type": "code",
   "execution_count": 1,
   "metadata": {},
   "outputs": [],
   "source": [
    "#local libraries\n",
    "\n",
    "import pandas as pd\n",
    "import numpy as np\n",
    "import matplotlib.pyplot as plt\n",
    "import seaborn as sns\n",
    "\n",
    "#spark\n",
    "\n",
    "import databricks.koalas as ks\n",
    "from pyspark import SparkConf\n",
    "from pyspark.sql import SparkSession"
   ]
  },
  {
   "cell_type": "markdown",
   "metadata": {},
   "source": [
    "#### Spark conf and SparkSession"
   ]
  },
  {
   "cell_type": "code",
   "execution_count": 2,
   "metadata": {},
   "outputs": [],
   "source": [
    "conf = SparkConf().setAll([(\"spark.master\", \"local\"), (\"spark.driver.memory\", \"2G\")])\n",
    "\n",
    "spark = SparkSession.builder.config(conf = conf).getOrCreate()"
   ]
  },
  {
   "cell_type": "code",
   "execution_count": 3,
   "metadata": {},
   "outputs": [
    {
     "data": {
      "text/html": [
       "\n",
       "            <div>\n",
       "                <p><b>SparkSession - in-memory</b></p>\n",
       "                \n",
       "        <div>\n",
       "            <p><b>SparkContext</b></p>\n",
       "\n",
       "            <p><a href=\"http://192.168.8.103:4040\">Spark UI</a></p>\n",
       "\n",
       "            <dl>\n",
       "              <dt>Version</dt>\n",
       "                <dd><code>v3.0.0</code></dd>\n",
       "              <dt>Master</dt>\n",
       "                <dd><code>local</code></dd>\n",
       "              <dt>AppName</dt>\n",
       "                <dd><code>pyspark-shell</code></dd>\n",
       "            </dl>\n",
       "        </div>\n",
       "        \n",
       "            </div>\n",
       "        "
      ],
      "text/plain": [
       "<pyspark.sql.session.SparkSession at 0x1205e7250>"
      ]
     },
     "execution_count": 3,
     "metadata": {},
     "output_type": "execute_result"
    }
   ],
   "source": [
    "spark"
   ]
  },
  {
   "cell_type": "markdown",
   "metadata": {},
   "source": [
    "### Import data"
   ]
  },
  {
   "cell_type": "code",
   "execution_count": 4,
   "metadata": {},
   "outputs": [
    {
     "data": {
      "text/plain": [
       "carat            53940\n",
       "depth            53940\n",
       "table            53940\n",
       "price            53940\n",
       "x                53940\n",
       "y                53940\n",
       "z                53940\n",
       "cut.Fair         53940\n",
       "cut.Good         53940\n",
       "cut.Very.Good    53940\n",
       "cut.Premium      53940\n",
       "cut.Ideal        53940\n",
       "color.D          53940\n",
       "color.E          53940\n",
       "color.F          53940\n",
       "color.G          53940\n",
       "color.H          53940\n",
       "color.I          53940\n",
       "color.J          53940\n",
       "clarity.I1       53940\n",
       "clarity.SI2      53940\n",
       "clarity.SI1      53940\n",
       "clarity.VS2      53940\n",
       "clarity.VS1      53940\n",
       "clarity.VVS2     53940\n",
       "clarity.VVS1     53940\n",
       "clarity.IF       53940\n",
       "dtype: int64"
      ]
     },
     "execution_count": 4,
     "metadata": {},
     "output_type": "execute_result"
    }
   ],
   "source": [
    "df = ks.read_csv(\"/Users/ramonsotogarcia/Desktop/Data/diamonds.csv\", header = 0)\n",
    "\n",
    "df.spark.cache()\n",
    "\n",
    "df.count()"
   ]
  },
  {
   "cell_type": "markdown",
   "metadata": {},
   "source": [
    "### Missing values"
   ]
  },
  {
   "cell_type": "code",
   "execution_count": 5,
   "metadata": {},
   "outputs": [
    {
     "data": {
      "text/plain": [
       "carat            0.0\n",
       "depth            0.0\n",
       "table            0.0\n",
       "price            0.0\n",
       "x                0.0\n",
       "y                0.0\n",
       "z                0.0\n",
       "cut.Fair         0.0\n",
       "cut.Good         0.0\n",
       "cut.Very.Good    0.0\n",
       "cut.Premium      0.0\n",
       "cut.Ideal        0.0\n",
       "color.D          0.0\n",
       "color.E          0.0\n",
       "color.F          0.0\n",
       "color.G          0.0\n",
       "color.H          0.0\n",
       "color.I          0.0\n",
       "color.J          0.0\n",
       "clarity.I1       0.0\n",
       "clarity.SI2      0.0\n",
       "clarity.SI1      0.0\n",
       "clarity.VS2      0.0\n",
       "clarity.VS1      0.0\n",
       "clarity.VVS2     0.0\n",
       "clarity.VVS1     0.0\n",
       "clarity.IF       0.0\n",
       "dtype: float64"
      ]
     },
     "execution_count": 5,
     "metadata": {},
     "output_type": "execute_result"
    }
   ],
   "source": [
    "df.isna().sum(axis=0)/ df.shape[0]"
   ]
  },
  {
   "cell_type": "markdown",
   "metadata": {},
   "source": [
    "Parece que el dataframe no tiene NAs"
   ]
  },
  {
   "cell_type": "code",
   "execution_count": 6,
   "metadata": {},
   "outputs": [
    {
     "data": {
      "text/html": [
       "<div>\n",
       "<style scoped>\n",
       "    .dataframe tbody tr th:only-of-type {\n",
       "        vertical-align: middle;\n",
       "    }\n",
       "\n",
       "    .dataframe tbody tr th {\n",
       "        vertical-align: top;\n",
       "    }\n",
       "\n",
       "    .dataframe thead th {\n",
       "        text-align: right;\n",
       "    }\n",
       "</style>\n",
       "<table border=\"1\" class=\"dataframe\">\n",
       "  <thead>\n",
       "    <tr style=\"text-align: right;\">\n",
       "      <th></th>\n",
       "      <th>carat</th>\n",
       "      <th>depth</th>\n",
       "      <th>table</th>\n",
       "      <th>price</th>\n",
       "      <th>x</th>\n",
       "      <th>y</th>\n",
       "      <th>z</th>\n",
       "      <th>cut.Fair</th>\n",
       "      <th>cut.Good</th>\n",
       "      <th>cut.Very.Good</th>\n",
       "      <th>cut.Premium</th>\n",
       "      <th>cut.Ideal</th>\n",
       "      <th>color.D</th>\n",
       "      <th>color.E</th>\n",
       "      <th>color.F</th>\n",
       "      <th>color.G</th>\n",
       "      <th>color.H</th>\n",
       "      <th>color.I</th>\n",
       "      <th>color.J</th>\n",
       "      <th>clarity.I1</th>\n",
       "      <th>clarity.SI2</th>\n",
       "      <th>clarity.SI1</th>\n",
       "      <th>clarity.VS2</th>\n",
       "      <th>clarity.VS1</th>\n",
       "      <th>clarity.VVS2</th>\n",
       "      <th>clarity.VVS1</th>\n",
       "      <th>clarity.IF</th>\n",
       "    </tr>\n",
       "  </thead>\n",
       "  <tbody>\n",
       "    <tr>\n",
       "      <th>0</th>\n",
       "      <td>0.23</td>\n",
       "      <td>61.5</td>\n",
       "      <td>55.0</td>\n",
       "      <td>326</td>\n",
       "      <td>3.95</td>\n",
       "      <td>3.98</td>\n",
       "      <td>2.43</td>\n",
       "      <td>0</td>\n",
       "      <td>0</td>\n",
       "      <td>0</td>\n",
       "      <td>0</td>\n",
       "      <td>1</td>\n",
       "      <td>0</td>\n",
       "      <td>1</td>\n",
       "      <td>0</td>\n",
       "      <td>0</td>\n",
       "      <td>0</td>\n",
       "      <td>0</td>\n",
       "      <td>0</td>\n",
       "      <td>0</td>\n",
       "      <td>1</td>\n",
       "      <td>0</td>\n",
       "      <td>0</td>\n",
       "      <td>0</td>\n",
       "      <td>0</td>\n",
       "      <td>0</td>\n",
       "      <td>0</td>\n",
       "    </tr>\n",
       "    <tr>\n",
       "      <th>1</th>\n",
       "      <td>0.21</td>\n",
       "      <td>59.8</td>\n",
       "      <td>61.0</td>\n",
       "      <td>326</td>\n",
       "      <td>3.89</td>\n",
       "      <td>3.84</td>\n",
       "      <td>2.31</td>\n",
       "      <td>0</td>\n",
       "      <td>0</td>\n",
       "      <td>0</td>\n",
       "      <td>1</td>\n",
       "      <td>0</td>\n",
       "      <td>0</td>\n",
       "      <td>1</td>\n",
       "      <td>0</td>\n",
       "      <td>0</td>\n",
       "      <td>0</td>\n",
       "      <td>0</td>\n",
       "      <td>0</td>\n",
       "      <td>0</td>\n",
       "      <td>0</td>\n",
       "      <td>1</td>\n",
       "      <td>0</td>\n",
       "      <td>0</td>\n",
       "      <td>0</td>\n",
       "      <td>0</td>\n",
       "      <td>0</td>\n",
       "    </tr>\n",
       "    <tr>\n",
       "      <th>2</th>\n",
       "      <td>0.23</td>\n",
       "      <td>56.9</td>\n",
       "      <td>65.0</td>\n",
       "      <td>327</td>\n",
       "      <td>4.05</td>\n",
       "      <td>4.07</td>\n",
       "      <td>2.31</td>\n",
       "      <td>0</td>\n",
       "      <td>1</td>\n",
       "      <td>0</td>\n",
       "      <td>0</td>\n",
       "      <td>0</td>\n",
       "      <td>0</td>\n",
       "      <td>1</td>\n",
       "      <td>0</td>\n",
       "      <td>0</td>\n",
       "      <td>0</td>\n",
       "      <td>0</td>\n",
       "      <td>0</td>\n",
       "      <td>0</td>\n",
       "      <td>0</td>\n",
       "      <td>0</td>\n",
       "      <td>0</td>\n",
       "      <td>1</td>\n",
       "      <td>0</td>\n",
       "      <td>0</td>\n",
       "      <td>0</td>\n",
       "    </tr>\n",
       "    <tr>\n",
       "      <th>3</th>\n",
       "      <td>0.29</td>\n",
       "      <td>62.4</td>\n",
       "      <td>58.0</td>\n",
       "      <td>334</td>\n",
       "      <td>4.20</td>\n",
       "      <td>4.23</td>\n",
       "      <td>2.63</td>\n",
       "      <td>0</td>\n",
       "      <td>0</td>\n",
       "      <td>0</td>\n",
       "      <td>1</td>\n",
       "      <td>0</td>\n",
       "      <td>0</td>\n",
       "      <td>0</td>\n",
       "      <td>0</td>\n",
       "      <td>0</td>\n",
       "      <td>0</td>\n",
       "      <td>1</td>\n",
       "      <td>0</td>\n",
       "      <td>0</td>\n",
       "      <td>0</td>\n",
       "      <td>0</td>\n",
       "      <td>1</td>\n",
       "      <td>0</td>\n",
       "      <td>0</td>\n",
       "      <td>0</td>\n",
       "      <td>0</td>\n",
       "    </tr>\n",
       "    <tr>\n",
       "      <th>4</th>\n",
       "      <td>0.31</td>\n",
       "      <td>63.3</td>\n",
       "      <td>58.0</td>\n",
       "      <td>335</td>\n",
       "      <td>4.34</td>\n",
       "      <td>4.35</td>\n",
       "      <td>2.75</td>\n",
       "      <td>0</td>\n",
       "      <td>1</td>\n",
       "      <td>0</td>\n",
       "      <td>0</td>\n",
       "      <td>0</td>\n",
       "      <td>0</td>\n",
       "      <td>0</td>\n",
       "      <td>0</td>\n",
       "      <td>0</td>\n",
       "      <td>0</td>\n",
       "      <td>0</td>\n",
       "      <td>1</td>\n",
       "      <td>0</td>\n",
       "      <td>1</td>\n",
       "      <td>0</td>\n",
       "      <td>0</td>\n",
       "      <td>0</td>\n",
       "      <td>0</td>\n",
       "      <td>0</td>\n",
       "      <td>0</td>\n",
       "    </tr>\n",
       "  </tbody>\n",
       "</table>\n",
       "</div>"
      ],
      "text/plain": [
       "   carat  depth  table  price     x     y     z  cut.Fair  cut.Good  cut.Very.Good  cut.Premium  cut.Ideal  color.D  color.E  color.F  color.G  color.H  color.I  color.J  clarity.I1  clarity.SI2  clarity.SI1  clarity.VS2  clarity.VS1  clarity.VVS2  clarity.VVS1  clarity.IF\n",
       "0   0.23   61.5   55.0    326  3.95  3.98  2.43         0         0              0            0          1        0        1        0        0        0        0        0           0            1            0            0            0             0             0           0\n",
       "1   0.21   59.8   61.0    326  3.89  3.84  2.31         0         0              0            1          0        0        1        0        0        0        0        0           0            0            1            0            0             0             0           0\n",
       "2   0.23   56.9   65.0    327  4.05  4.07  2.31         0         1              0            0          0        0        1        0        0        0        0        0           0            0            0            0            1             0             0           0\n",
       "3   0.29   62.4   58.0    334  4.20  4.23  2.63         0         0              0            1          0        0        0        0        0        0        1        0           0            0            0            1            0             0             0           0\n",
       "4   0.31   63.3   58.0    335  4.34  4.35  2.75         0         1              0            0          0        0        0        0        0        0        0        1           0            1            0            0            0             0             0           0"
      ]
     },
     "execution_count": 6,
     "metadata": {},
     "output_type": "execute_result"
    }
   ],
   "source": [
    "df.head(5)"
   ]
  },
  {
   "cell_type": "markdown",
   "metadata": {},
   "source": [
    "### Feature engineering"
   ]
  },
  {
   "cell_type": "code",
   "execution_count": 7,
   "metadata": {},
   "outputs": [],
   "source": [
    "#variable diamond type\n",
    "\n",
    "df[\"DiamondType\"] = \"Fair\"\n",
    "df.loc[df[\"cut.Ideal\"] == 1, [\"DiamondType\"]] = \"Ideal\"\n",
    "df.loc[df[\"cut.Good\"] == 1, [\"DiamondType\"]] = \"Good\"\n",
    "df.loc[df[\"cut.Very.Good\"] == 1, [\"DiamondType\"]] = \"Very good\"\n",
    "df.loc[df[\"cut.Premium\"] == 1, [\"DiamondType\"]] = \"Premium\"\n",
    "\n",
    "#seleccionamos las variables que nos interesa\n",
    "\n",
    "df = df.loc[:, [\"carat\", \"price\", \"table\", \"x\", \"y\", \"z\", \"DiamondType\"]]\n",
    "\n"
   ]
  },
  {
   "cell_type": "code",
   "execution_count": 8,
   "metadata": {},
   "outputs": [
    {
     "data": {
      "text/plain": [
       "DiamondType\n",
       "Ideal        21551\n",
       "Premium      13791\n",
       "Very good    12082\n",
       "Good          4906\n",
       "Fair          1610\n",
       "Name: carat, dtype: int64"
      ]
     },
     "execution_count": 8,
     "metadata": {},
     "output_type": "execute_result"
    }
   ],
   "source": [
    "df.groupby(\"DiamondType\").count().sort_values(by = \"carat\", ascending = False)[\"carat\"]"
   ]
  },
  {
   "cell_type": "code",
   "execution_count": 9,
   "metadata": {},
   "outputs": [
    {
     "data": {
      "image/png": "[encoded data removed]",
      "text/plain": [
       "<Figure size 600x600 with 1 Axes>"
      ]
     },
     "metadata": {
      "needs_background": "light"
     },
     "output_type": "display_data"
    }
   ],
   "source": [
    "new = df.groupby(\"DiamondType\").count().sort_values(by = \"carat\", ascending = False)\n",
    "\n",
    "diamond_type = new.index.to_numpy()\n",
    "counts = df.groupby(\"DiamondType\").count().sort_values(by = \"carat\", ascending = False)[\"carat\"].to_numpy()\n",
    "\n",
    "results_df = pd.DataFrame(data = {\"Diamond Type\": diamond_type, \"Counts\":counts})\n",
    "\n",
    "plt.figure(figsize = (2,2), dpi = 300)\n",
    "\n",
    "sns.barplot(data = results_df, x = \"Diamond Type\", y = \"Counts\")\n",
    "plt.xticks(rotation = 45, fontsize = \"x-small\")\n",
    "plt.title(\"Distribution of diamond types, by cut\", fontweight = \"bold\", fontsize = 6, pad = 14)\n",
    "plt.xlabel(\"\")\n",
    "plt.show()"
   ]
  },
  {
   "cell_type": "code",
   "execution_count": 10,
   "metadata": {},
   "outputs": [
    {
     "data": {
      "text/html": [
       "<div>\n",
       "<style scoped>\n",
       "    .dataframe tbody tr th:only-of-type {\n",
       "        vertical-align: middle;\n",
       "    }\n",
       "\n",
       "    .dataframe tbody tr th {\n",
       "        vertical-align: top;\n",
       "    }\n",
       "\n",
       "    .dataframe thead th {\n",
       "        text-align: right;\n",
       "    }\n",
       "</style>\n",
       "<table border=\"1\" class=\"dataframe\">\n",
       "  <thead>\n",
       "    <tr style=\"text-align: right;\">\n",
       "      <th></th>\n",
       "      <th>carat</th>\n",
       "      <th>price</th>\n",
       "      <th>table</th>\n",
       "      <th>x</th>\n",
       "      <th>y</th>\n",
       "      <th>z</th>\n",
       "      <th>DiamondType</th>\n",
       "    </tr>\n",
       "  </thead>\n",
       "  <tbody>\n",
       "    <tr>\n",
       "      <th>0</th>\n",
       "      <td>0.23</td>\n",
       "      <td>326</td>\n",
       "      <td>55.0</td>\n",
       "      <td>3.95</td>\n",
       "      <td>3.98</td>\n",
       "      <td>2.43</td>\n",
       "      <td>Ideal</td>\n",
       "    </tr>\n",
       "    <tr>\n",
       "      <th>1</th>\n",
       "      <td>0.21</td>\n",
       "      <td>326</td>\n",
       "      <td>61.0</td>\n",
       "      <td>3.89</td>\n",
       "      <td>3.84</td>\n",
       "      <td>2.31</td>\n",
       "      <td>Premium</td>\n",
       "    </tr>\n",
       "    <tr>\n",
       "      <th>2</th>\n",
       "      <td>0.23</td>\n",
       "      <td>327</td>\n",
       "      <td>65.0</td>\n",
       "      <td>4.05</td>\n",
       "      <td>4.07</td>\n",
       "      <td>2.31</td>\n",
       "      <td>Good</td>\n",
       "    </tr>\n",
       "    <tr>\n",
       "      <th>3</th>\n",
       "      <td>0.29</td>\n",
       "      <td>334</td>\n",
       "      <td>58.0</td>\n",
       "      <td>4.20</td>\n",
       "      <td>4.23</td>\n",
       "      <td>2.63</td>\n",
       "      <td>Premium</td>\n",
       "    </tr>\n",
       "    <tr>\n",
       "      <th>4</th>\n",
       "      <td>0.31</td>\n",
       "      <td>335</td>\n",
       "      <td>58.0</td>\n",
       "      <td>4.34</td>\n",
       "      <td>4.35</td>\n",
       "      <td>2.75</td>\n",
       "      <td>Good</td>\n",
       "    </tr>\n",
       "  </tbody>\n",
       "</table>\n",
       "</div>"
      ],
      "text/plain": [
       "   carat  price  table     x     y     z DiamondType\n",
       "0   0.23    326   55.0  3.95  3.98  2.43       Ideal\n",
       "1   0.21    326   61.0  3.89  3.84  2.31     Premium\n",
       "2   0.23    327   65.0  4.05  4.07  2.31        Good\n",
       "3   0.29    334   58.0  4.20  4.23  2.63     Premium\n",
       "4   0.31    335   58.0  4.34  4.35  2.75        Good"
      ]
     },
     "execution_count": 10,
     "metadata": {},
     "output_type": "execute_result"
    }
   ],
   "source": [
    "df.head(5)"
   ]
  },
  {
   "cell_type": "markdown",
   "metadata": {},
   "source": [
    "## PySpark ML: Random Forest"
   ]
  },
  {
   "cell_type": "code",
   "execution_count": 11,
   "metadata": {},
   "outputs": [],
   "source": [
    "#import libraries\n",
    "\n",
    "from pyspark.ml.feature import *\n",
    "\n",
    "from pyspark.ml import Pipeline\n",
    "from pyspark.ml.regression import RandomForestRegressor\n",
    "from pyspark.ml.evaluation import RegressionEvaluator\n"
   ]
  },
  {
   "cell_type": "markdown",
   "metadata": {},
   "source": [
    "#### Bring data to PySpark"
   ]
  },
  {
   "cell_type": "code",
   "execution_count": 12,
   "metadata": {},
   "outputs": [
    {
     "data": {
      "text/plain": [
       "53940"
      ]
     },
     "execution_count": 12,
     "metadata": {},
     "output_type": "execute_result"
    }
   ],
   "source": [
    "#bring data to pyspark\n",
    "\n",
    "sdf = df.to_spark()\n",
    "sdf.cache()\n",
    "sdf.count()\n"
   ]
  },
  {
   "cell_type": "markdown",
   "metadata": {},
   "source": [
    "#### Split dataset"
   ]
  },
  {
   "cell_type": "code",
   "execution_count": 13,
   "metadata": {},
   "outputs": [],
   "source": [
    "#split dataset\n",
    "\n",
    "splits = sdf.randomSplit([0.8, 0.2], seed = 42)\n",
    "\n",
    "train_df = splits[0].cache()\n",
    "test_df = splits[1].cache()\n"
   ]
  },
  {
   "cell_type": "markdown",
   "metadata": {},
   "source": [
    "#### Define model stages"
   ]
  },
  {
   "cell_type": "code",
   "execution_count": 31,
   "metadata": {},
   "outputs": [],
   "source": [
    "#we need to assemble the numeric features as a vector before scaling them\n",
    "\n",
    "\n",
    "vectoriser_1 = VectorAssembler(inputCols = [\"x\", \"y\", \"z\", \"carat\"], outputCol = \"features\", handleInvalid='keep')\n",
    "\n",
    "\n",
    "#now we scale the features that have been vectorised\n",
    "\n",
    "scaler = StandardScaler(withMean= True, withStd = True, inputCol = \"features\", outputCol = \"scaled_features\")\n",
    "\n",
    "\n",
    "#string index\n",
    "\n",
    "type_index = StringIndexer(inputCol = \"DiamondType\", outputCol = \"type_indexed\", handleInvalid = \"keep\")\n",
    "\n",
    "\n",
    "#we assemble the previous vector of scaled features and the indexed categorical variable into a new vector\n",
    "\n",
    "vectoriser_2 = VectorAssembler(inputCols = [\"scaled_features\", \"type_indexed\"], outputCol = \"featuresCol\", handleInvalid='keep')\n",
    "\n",
    "\n",
    "#model\n",
    "\n",
    "rf = RandomForestRegressor(featuresCol = \"featuresCol\", labelCol = \"price\", numTrees = 100, minInstancesPerNode = 5)\n"
   ]
  },
  {
   "cell_type": "markdown",
   "metadata": {},
   "source": [
    "#### Model training and predictions"
   ]
  },
  {
   "cell_type": "code",
   "execution_count": 32,
   "metadata": {},
   "outputs": [],
   "source": [
    "#model fit\n",
    "\n",
    "pipeline = Pipeline(stages = [vectoriser_1, scaler,type_index, vectoriser_2, rf])\n",
    "\n",
    "model = pipeline.fit(train_df)  #gives error about feature being a double :S\n",
    "\n",
    "\n",
    "#model predictions\n",
    "\n",
    "pred_df = model.transform(test_df)"
   ]
  },
  {
   "cell_type": "markdown",
   "metadata": {},
   "source": [
    "In Spark, the predictions are created as a new dataframe containing the features used to train the model, the label column and the prediction column. These are then used by the \"evaluator\" to produce metrics."
   ]
  },
  {
   "cell_type": "markdown",
   "metadata": {},
   "source": [
    "#### Regression evaluator (RMSE)"
   ]
  },
  {
   "cell_type": "code",
   "execution_count": 33,
   "metadata": {},
   "outputs": [
    {
     "name": "stdout",
     "output_type": "stream",
     "text": [
      "1412.1\n"
     ]
    }
   ],
   "source": [
    "evaluator = RegressionEvaluator(labelCol=\"price\", predictionCol=\"prediction\", metricName=\"rmse\")\n",
    "\n",
    "rmse = evaluator.evaluate(pred_df)\n",
    "\n",
    "print(round(rmse, 2))"
   ]
  },
  {
   "cell_type": "markdown",
   "metadata": {},
   "source": [
    "### Cross validation"
   ]
  },
  {
   "cell_type": "markdown",
   "metadata": {},
   "source": [
    "#### Build grid"
   ]
  },
  {
   "cell_type": "code",
   "execution_count": 34,
   "metadata": {},
   "outputs": [],
   "source": [
    "from pyspark.ml.tuning import CrossValidator, ParamGridBuilder\n",
    "\n",
    "param_grid = ParamGridBuilder().addGrid(rf.numTrees, [100, 300, 500]).addGrid(rf.minInstancesPerNode, [5, 10, 15]).build()\n"
   ]
  },
  {
   "cell_type": "markdown",
   "metadata": {},
   "source": [
    "#### Fit model"
   ]
  },
  {
   "cell_type": "code",
   "execution_count": 35,
   "metadata": {},
   "outputs": [
    {
     "data": {
      "text/plain": [
       "[VectorAssembler_2931c28aec0e,\n",
       " StandardScalerModel: uid=StandardScaler_709179059b5a, numFeatures=4, withMean=true, withStd=true,\n",
       " StringIndexerModel: uid=StringIndexer_10b3369f2b45, handleInvalid=keep,\n",
       " VectorAssembler_f904ae482481,\n",
       " RandomForestRegressionModel: uid=RandomForestRegressor_19b28e162f9b, numTrees=100, numFeatures=5]"
      ]
     },
     "execution_count": 35,
     "metadata": {},
     "output_type": "execute_result"
    }
   ],
   "source": [
    "grid_model = CrossValidator(estimator = pipeline, estimatorParamMaps = param_grid, evaluator = evaluator, numFolds = 3, seed=42).fit(train_df)\n",
    "\n",
    "grid_model.bestModel.stages"
   ]
  },
  {
   "cell_type": "code",
   "execution_count": 37,
   "metadata": {},
   "outputs": [],
   "source": [
    "rf = grid_model.bestModel.stages[4]"
   ]
  },
  {
   "cell_type": "code",
   "execution_count": 38,
   "metadata": {},
   "outputs": [
    {
     "name": "stdout",
     "output_type": "stream",
     "text": [
      "The optimum number of trees is : 100 , and the minimum number of samples per node is : 5\n"
     ]
    }
   ],
   "source": [
    "print(\"The optimum number of trees is :\", rf.getOrDefault(\"numTrees\"), \", and the minimum number of samples per node is :\", rf.getOrDefault(\"minInstancesPerNode\"))"
   ]
  },
  {
   "cell_type": "markdown",
   "metadata": {},
   "source": [
    "#### Test best model on unseen data"
   ]
  },
  {
   "cell_type": "code",
   "execution_count": 39,
   "metadata": {},
   "outputs": [
    {
     "name": "stdout",
     "output_type": "stream",
     "text": [
      "1412.1\n"
     ]
    }
   ],
   "source": [
    "pred_df = grid_model.transform(test_df)  #get predictions on test data\n",
    "\n",
    "rmse = evaluator.evaluate(pred_df)  #get metrics\n",
    "\n",
    "print(round(rmse, 2))"
   ]
  },
  {
   "cell_type": "markdown",
   "metadata": {},
   "source": [
    "## PySpark ML: Linear regression"
   ]
  },
  {
   "cell_type": "code",
   "execution_count": 40,
   "metadata": {},
   "outputs": [],
   "source": [
    "from pyspark.ml.regression import LinearRegression\n"
   ]
  },
  {
   "cell_type": "markdown",
   "metadata": {},
   "source": [
    "#### If we do not standardise the variables using StandardScaler we do not get an error. We can then set standardisation = True when defining the linear regression model."
   ]
  },
  {
   "cell_type": "code",
   "execution_count": 41,
   "metadata": {},
   "outputs": [
    {
     "name": "stdout",
     "output_type": "stream",
     "text": [
      "+-----+-----+-----+----+----+----+-----------+\n",
      "|carat|price|table|   x|   y|   z|DiamondType|\n",
      "+-----+-----+-----+----+----+----+-----------+\n",
      "|  0.2|  345| 62.0|3.79|3.75|2.27|    Premium|\n",
      "|  0.2|  367| 55.0|3.86|3.84| 2.3|      Ideal|\n",
      "|  0.2|  367| 57.0|3.81|3.77|2.33|      Ideal|\n",
      "|  0.2|  367| 59.0|3.73|3.71|2.33|    Premium|\n",
      "|  0.2|  367| 59.0|3.74|3.71|2.36|  Very good|\n",
      "|  0.2|  367| 60.0|3.73|3.68|2.31|    Premium|\n",
      "|  0.2|  367| 60.0|3.81|3.78|2.24|    Premium|\n",
      "|  0.2|  367| 62.0|3.79|3.77|2.26|    Premium|\n",
      "|  0.2|  367| 62.0|3.84| 3.8|2.28|    Premium|\n",
      "| 0.21|  326| 61.0|3.89|3.84|2.31|    Premium|\n",
      "| 0.21|  386| 56.0|3.93|3.89|2.33|    Premium|\n",
      "| 0.21|  386| 59.0|3.82|3.78|2.34|    Premium|\n",
      "| 0.21|  386| 59.0|3.87|3.83|2.33|    Premium|\n",
      "| 0.21|  386| 59.0|3.96|3.93| 2.3|    Premium|\n",
      "| 0.21|  386| 60.0|3.85|3.81|2.32|    Premium|\n",
      "| 0.21|  394| 56.0|3.84|3.82|2.37|    Premium|\n",
      "| 0.22|  337| 61.0|3.87|3.78|2.49|       Fair|\n",
      "| 0.22|  342| 61.0|3.88|3.84|2.33|    Premium|\n",
      "| 0.22|  404| 62.0|3.91|3.88|2.31|    Premium|\n",
      "| 0.22|  470| 60.0| 3.9|3.85|2.39|    Premium|\n",
      "+-----+-----+-----+----+----+----+-----------+\n",
      "only showing top 20 rows\n",
      "\n"
     ]
    }
   ],
   "source": [
    "train_df.show()"
   ]
  },
  {
   "cell_type": "markdown",
   "metadata": {},
   "source": [
    "#### Build pipeline stages"
   ]
  },
  {
   "cell_type": "code",
   "execution_count": 42,
   "metadata": {},
   "outputs": [],
   "source": [
    "#we assemble the features into a vector\n",
    "\n",
    "vectoriser_1 = VectorAssembler(inputCols = [\"carat\", \"x\", \"y\", \"z\"], outputCol = \"features\", handleInvalid = \"keep\")\n",
    "\n",
    "\n",
    "#scale the features of the vector\n",
    "\n",
    "scaler = StandardScaler(withMean = True, withStd = True, inputCol = \"features\", outputCol = \"scaled_features\")\n",
    "\n",
    "\n",
    "#string indexer and one hot encoder\n",
    "\n",
    "indexed_type = StringIndexer(inputCol = \"DiamondType\", outputCol = \"type_indexed\", handleInvalid = \"keep\")\n",
    "\n",
    "ohe = OneHotEncoder(inputCol = \"type_indexed\", outputCol = \"type_binary\", handleInvalid='keep')\n",
    "\n",
    "\n",
    "#vector assembler\n",
    "\n",
    "vectoriser_2 = VectorAssembler(inputCols = [\"scaled_features\", \"type_binary\"], outputCol = \"featuresCol\", handleInvalid = \"keep\")\n",
    "\n",
    "\n",
    "#model\n",
    "\n",
    "lr = LinearRegression(featuresCol='featuresCol', labelCol=\"price\")  #set this to true\n",
    "\n",
    "pipeline = Pipeline(stages = [vectoriser_1, scaler, indexed_type, ohe, vectoriser_2, lr])\n"
   ]
  },
  {
   "cell_type": "markdown",
   "metadata": {},
   "source": [
    "#### Model fit and predictions"
   ]
  },
  {
   "cell_type": "code",
   "execution_count": null,
   "metadata": {},
   "outputs": [],
   "source": [
    "#model fit\n",
    "\n",
    "lr_model = pipeline.fit(train_df)  #works. Problem arises during standard scaler\n",
    "\n",
    "#predictions\n",
    "\n",
    "pred_df = lr_model.transform(test_df)\n",
    "\n"
   ]
  },
  {
   "cell_type": "markdown",
   "metadata": {},
   "source": [
    "#### Evaluate model"
   ]
  },
  {
   "cell_type": "code",
   "execution_count": 44,
   "metadata": {},
   "outputs": [
    {
     "name": "stdout",
     "output_type": "stream",
     "text": [
      "1503.24\n"
     ]
    }
   ],
   "source": [
    "from pyspark.ml.evaluation import RegressionEvaluator\n",
    "\n",
    "\n",
    "evaluator = RegressionEvaluator(predictionCol='prediction', labelCol='price', metricName='rmse')\n",
    "\n",
    "rmse = evaluator.evaluate(pred_df)\n",
    "\n",
    "print(round(rmse, 2))"
   ]
  }
 ],
 "metadata": {
  "kernelspec": {
   "display_name": "Python 3",
   "language": "python",
   "name": "python3"
  },
  "language_info": {
   "codemirror_mode": {
    "name": "ipython",
    "version": 3
   },
   "file_extension": ".py",
   "mimetype": "text/x-python",
   "name": "python",
   "nbconvert_exporter": "python",
   "pygments_lexer": "ipython3",
   "version": "3.8.5"
  }
 },
 "nbformat": 4,
 "nbformat_minor": 4
}
